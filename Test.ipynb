{
 "cells": [
  {
   "cell_type": "code",
   "execution_count": null,
   "id": "96c0ffa8",
   "metadata": {},
   "outputs": [],
   "source": [
    "import pandas as pd\n",
    "import numpy as np\n",
    "from ProcessingAndSplitting import process_and_split_data\n",
    "from ClassNeuralNetwork import Neural_Network\n",
    "from sklearn.metrics import accuracy_score\n"
   ]
  },
  {
   "cell_type": "code",
   "execution_count": 31,
   "id": "df2a72df",
   "metadata": {},
   "outputs": [
    {
     "name": "stdout",
     "output_type": "stream",
     "text": [
      "Training data (features):\n",
      "[[ 0.00692641  0.89855908 -0.90911166  1.5920055   0.96170725  0.88120015\n",
      "  -0.94567499  0.64412236 -0.99749687  0.55326388 -0.93228691  1.58391033\n",
      "  -0.57350122]\n",
      " [ 1.31742529 -0.99489078  1.09997489 -0.10076463  0.96170725  0.69117795\n",
      "  -0.94567499  0.64412236 -0.99749687  0.58155181 -0.93228691  1.58391033\n",
      "  -0.57350122]\n",
      " [-1.63119718  0.77167842  1.09997489 -1.39523591  0.29558967 -1.17831023\n",
      "   0.83861744  0.64412236  1.00250941 -0.83010056  1.07263117 -0.63134887\n",
      "  -0.57350122]\n",
      " [ 0.5268526   0.99615958 -0.90911166  0.19795951 -1.36970427  1.09090561\n",
      "  -0.94567499  0.64412236 -0.99749687  1.39398606  1.07263117 -0.63134887\n",
      "  -0.57350122]\n",
      " [ 0.59807536  0.15679522 -0.90911166  0.59625836 -1.03664548  0.72823274\n",
      "   0.83861744 -1.55250005  1.00250941  0.73134562 -0.93228691  1.58391033\n",
      "  -0.57350122]]\n",
      "Training data (target):\n",
      "249    1\n",
      "433    1\n",
      "19     0\n",
      "322    1\n",
      "332    0\n",
      "Name: Exited, dtype: int64\n"
     ]
    }
   ],
   "source": [
    "# Load and process the dataset\n",
    "file_path = 'Churn_Modelling_dataset.csv'\n",
    "X_train, X_test, y_train, y_test = process_and_split_data(file_path)\n",
    "\n",
    "# Display the first few rows of the training set\n",
    "print(\"Training data (features):\")\n",
    "print(X_train[:5])\n",
    "print(\"Training data (target):\")\n",
    "print(y_train[:5])\n"
   ]
  },
  {
   "cell_type": "code",
   "execution_count": null,
   "id": "b7aba10a",
   "metadata": {},
   "outputs": [],
   "source": [
    "# Convert y_train to a one-hot encoded matrix by creating an identity matrix of size equal to the number of unique classes in y_train and indexing it with y_train.\n",
    "# Convert y_test to a one-hot encoded matrix similar to y_train, using the unique classes in y_test for dimensionality.\n",
    "\n",
    "y_train_done = np.eye(len(np.unique(y_train)))[y_train]\n",
    "y_test_done = np.eye(len(np.unique(y_test)))[y_test]\n",
    "# Initialize the neural network\n",
    "# Assuming input size, hidden size, and output size are known\n",
    "nn = Neural_Network(input_size=X_train.shape[1], hidden_size=10, output_size=y_train_done.shape[1])\n",
    "\n",
    "\n"
   ]
  },
  {
   "cell_type": "code",
   "execution_count": 38,
   "id": "152e9ae5",
   "metadata": {},
   "outputs": [],
   "source": [
    "# Train the neural network\n",
    "nn.train(X_train, y_train_done, epochs=1000,learning_rate=0.01)"
   ]
  },
  {
   "cell_type": "code",
   "execution_count": 40,
   "id": "db27be68",
   "metadata": {},
   "outputs": [
    {
     "name": "stdout",
     "output_type": "stream",
     "text": [
      "Test accuracy: 81.0 %\n"
     ]
    }
   ],
   "source": [
    "y__ = nn.forward(X_test)\n",
    "ytesting = np.argmax(y__, axis=1)\n",
    "accuracy = accuracy_score(y_test, ytesting)\n",
    "print(\"Test accuracy:\",accuracy * 100,\"%\")"
   ]
  },
  {
   "cell_type": "code",
   "execution_count": null,
   "id": "3f1692ec",
   "metadata": {},
   "outputs": [],
   "source": []
  }
 ],
 "metadata": {
  "kernelspec": {
   "display_name": "base",
   "language": "python",
   "name": "python3"
  },
  "language_info": {
   "codemirror_mode": {
    "name": "ipython",
    "version": 3
   },
   "file_extension": ".py",
   "mimetype": "text/x-python",
   "name": "python",
   "nbconvert_exporter": "python",
   "pygments_lexer": "ipython3",
   "version": "3.9.13"
  }
 },
 "nbformat": 4,
 "nbformat_minor": 5
}
